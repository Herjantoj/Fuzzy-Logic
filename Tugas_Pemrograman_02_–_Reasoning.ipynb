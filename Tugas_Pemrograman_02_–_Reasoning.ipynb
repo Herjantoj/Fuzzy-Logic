{
  "nbformat": 4,
  "nbformat_minor": 0,
  "metadata": {
    "colab": {
      "name": "Tugas Pemrograman 02 – Reasoning.ipynb",
      "provenance": [],
      "collapsed_sections": []
    },
    "kernelspec": {
      "name": "python3",
      "display_name": "Python 3"
    },
    "language_info": {
      "name": "python"
    }
  },
  "cells": [
    {
      "cell_type": "markdown",
      "source": [
        "# Tugas Pemrograman 02 – Reasoning \n",
        "\n",
        "Kelompok 6\n",
        "1.   Hilman Taris Muttaqin\n",
        "2.   Herjanto Janawisuta\n"
      ],
      "metadata": {
        "id": "pMFiTrZb9PLo"
      }
    },
    {
      "cell_type": "markdown",
      "source": [
        "# 1. Deskripsi Tugas\n",
        "Diberikan file bengkel.xlsx berupa himpunan data 100 bengkel mobil yang ada di kota\n",
        "Bandung dengan dua atribut: Kualitas Servis (bilangan real 1-100; semakin tinggi semakin baik)\n",
        "dan Harga (bilangan real 1-10, semakin tinggi semakin mahal). Bangunlah sebuah sistem berbasis\n",
        "Fuzzy Logic untuk memilih 10 bengkel terbaik di kota Bandung. Sistem membaca masukan file\n",
        "bengkel.xlsx dan mengeluarkan output berupa sebuah file peringkat.xlsx yang berisi 10 nomor/ID\n",
        "bengkel terbaik beserta skor-nya (output Defuzzification).\n",
        "\n",
        "Poin-poin yang harus Anda desain dan analisis:\n",
        "* Jumlah dan Nama Linguistik setiap atribut input\n",
        "* Bentuk dan Batas Fungsi Keanggotaan Input\n",
        "* Aturan Inferensi\n",
        "* Metode Defuzzification\n",
        "* Bentuk dan Batas Fungsi Keanggotaan Output (sesuai metode Defuzzification)\n",
        "\n",
        "Catatan: Poin-poin di atas harus ada di dalam Laporan Tugas!\n",
        "Proses yang harus Anda implementasikan ke dalam program (bisa berbentuk fungsi/prosedur):\n",
        "* Membaca data dari file\n",
        "* Fuzzification\n",
        "* Inferensi\n",
        "* Defuzzification\n",
        "* Menyimpan output ke file\n",
        "\n",
        "Catatan: Proses-proses di atas harus dibangun tanpa menggunakan Library!"
      ],
      "metadata": {
        "id": "kdZvRZeKuy-M"
      }
    },
    {
      "cell_type": "markdown",
      "source": [
        "## Import Files Bengkel.xlsx"
      ],
      "metadata": {
        "id": "x5VGYi3xAfTV"
      }
    },
    {
      "cell_type": "code",
      "execution_count": 8,
      "metadata": {
        "colab": {
          "resources": {
            "http://localhost:8080/nbextensions/google.colab/files.js": {
              "data": "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",
              "ok": true,
              "headers": [
                [
                  "content-type",
                  "application/javascript"
                ]
              ],
              "status": 200,
              "status_text": ""
            }
          },
          "base_uri": "https://localhost:8080/",
          "height": 316
        },
        "id": "VkSYMokI9K0T",
        "outputId": "77ee1bdc-0465-4a87-97f5-ae32172447e4"
      },
      "outputs": [
        {
          "output_type": "display_data",
          "data": {
            "text/plain": [
              "<IPython.core.display.HTML object>"
            ],
            "text/html": [
              "\n",
              "     <input type=\"file\" id=\"files-3c78670e-7a34-4f17-93f3-26a47679ce54\" name=\"files[]\" multiple disabled\n",
              "        style=\"border:none\" />\n",
              "     <output id=\"result-3c78670e-7a34-4f17-93f3-26a47679ce54\">\n",
              "      Upload widget is only available when the cell has been executed in the\n",
              "      current browser session. Please rerun this cell to enable.\n",
              "      </output>\n",
              "      <script src=\"/nbextensions/google.colab/files.js\"></script> "
            ]
          },
          "metadata": {}
        },
        {
          "output_type": "stream",
          "name": "stdout",
          "text": [
            "Saving bengkel.xlsx to bengkel (1).xlsx\n",
            "     id  servis  harga\n",
            "0     1      58      7\n",
            "1     2      54      1\n",
            "2     3      98      2\n",
            "3     4      52      4\n",
            "4     5      11      4\n",
            "..  ...     ...    ...\n",
            "95   96      30      1\n",
            "96   97      25      3\n",
            "97   98      27     10\n",
            "98   99       8      6\n",
            "99  100      11      8\n",
            "\n",
            "[100 rows x 3 columns]\n"
          ]
        }
      ],
      "source": [
        "import pandas as pd\n",
        "from google.colab import files\n",
        "bengkel = files.upload()\n",
        "Data = pd.read_excel('bengkel.xlsx')\n",
        "print(Data)\n",
        "\n",
        "# constant definition\n",
        "\n",
        "# membership function for service quality\n",
        "HIGH = 0\n",
        "AVERAGE = 1\n",
        "LOW = 2\n",
        "\n",
        "# membership function for price\n",
        "EXPENSIVE = 0\n",
        "AFFORDABLE = 1\n",
        "CHEAP = 2\n",
        "\n",
        "# inference result\n",
        "GOOD = 0\n",
        "NORMAL = 1\n",
        "BAD = 2\n",
        "\n",
        "id = Data[\"id\"]\n",
        "servis = Data[\"servis\"]\n",
        "harga = Data[\"harga\"]"
      ]
    },
    {
      "cell_type": "markdown",
      "source": [
        "# Fuzzification\n",
        "*   Kualitas Servis : High, Average, Low\n",
        "*   Harga : Expensive, Affordable, Cheap\n",
        "*   Score : Good, Normal, Bad\n",
        "\n",
        "Transform crisp input into fuzzy values based-on its corresponding Membership Function\n",
        "\n"
      ],
      "metadata": {
        "id": "YM_hsv3pClAc"
      }
    },
    {
      "cell_type": "markdown",
      "source": [
        "![image.png](data:image/png;base64,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)"
      ],
      "metadata": {
        "id": "LjF1HyONZk4Q"
      }
    },
    {
      "cell_type": "markdown",
      "source": [
        "# Member Function for servis\n",
        "\n",
        "*  **servis**>=70 is definitely **High** and **servis**<50 is definitely not **High** \n",
        "*   **Average** **servis** is considered between 40 to 60, while **servis**<=30 or **servis**>=70 is considered not average\n",
        "*  **servis**<=30 is definitely **Low** and **servis**>50 is definitely not **Low**\n",
        "\n",
        "\n"
      ],
      "metadata": {
        "id": "wiqzotZUMiqb"
      }
    },
    {
      "cell_type": "markdown",
      "source": [
        "![Servis.png](data:image/png;base64,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)"
      ],
      "metadata": {
        "id": "CpKuY0c2VZ4Q"
      }
    },
    {
      "cell_type": "code",
      "source": [
        "# Membership Function of servis\n",
        "def member_servis(x):\n",
        "  \n",
        "  # Membership Function for servis (High)\n",
        "  if x >= 70:\n",
        "    High = 1\n",
        "  elif x < 50:\n",
        "    High = 0\n",
        "  else:\n",
        "    High = (x-50)/(70-50)\n",
        "  \n",
        "  # Membership Function for servis(Average)\n",
        "  if 40 <= x <= 60:\n",
        "    Average = 1\n",
        "  elif x <= 30 or x >= 70:\n",
        "    Average = 0\n",
        "  elif 30 < x < 40:\n",
        "    Average = (x-30)/(40-30)\n",
        "  else:\n",
        "    Average = (70-x)/(70-60)\n",
        "\n",
        "\n",
        "  # Membership Function for servis(Low)\n",
        "  if x <= 30:\n",
        "    Low = 1\n",
        "  elif x > 50:\n",
        "    Low = 0\n",
        "  else:\n",
        "    Low = (50-x)/(50-30)\n",
        "\n",
        "  return [High, Average, Low]\n",
        "  \n",
        "\n",
        "# contoh kasus\n",
        "c_servis = 58\n",
        "fuzzy_value = member_servis(c_servis)\n",
        "print(\"High =\",fuzzy_value[HIGH],\"\\nAverage =\",fuzzy_value[AVERAGE],\"\\nLow =\",fuzzy_value[LOW])"
      ],
      "metadata": {
        "colab": {
          "base_uri": "https://localhost:8080/"
        },
        "id": "9xgdm4_XJ_Ll",
        "outputId": "565bab42-ac47-4d52-e145-8239023ce858"
      },
      "execution_count": 3,
      "outputs": [
        {
          "output_type": "stream",
          "name": "stdout",
          "text": [
            "High = 0.4 \n",
            "Average = 1 \n",
            "Low = 0\n"
          ]
        }
      ]
    },
    {
      "cell_type": "markdown",
      "source": [
        "# Member Function for harga\n",
        "* **harga**>=7 is definitely **Expensive** and **harga**<5 is definitely not **Expensive**\n",
        "* **Affordable** **harga** is considered between 4 to 6, while **harga**<=3 or **harga**>=7 is considered not Affordable\n",
        "* **harga**<=3 is definitely **Cheap** and **harga**>5 is definitely not **Cheap**\n"
      ],
      "metadata": {
        "id": "U75CyyCYOkad"
      }
    },
    {
      "cell_type": "markdown",
      "source": [
        "![image.png](data:image/png;base64,iVBORw0KGgoAAAANSUhEUgAAAZMAAADzCAYAAABDn/uPAAAAAXNSR0IArs4c6QAAAARnQU1BAACxjwv8YQUAAAAJcEhZcwAADsMAAA7DAcdvqGQAACr9SURBVHhe7d0LcFTXmSfwT0hCiIeg1UJCvEFIxtixnRjkF4k9tiOSzBBlvJMo9k5UmjjZrZiahKKS3Z1asxShdmaTqhBPdkR2KpNYQ7LYzGRiE++uA/HbYBOETRInwkKSwbxfLfGW0HP7f+450ummu9Xdt19S/3+ua87pbnXfvn3v+e45595zclpbW4eqqqqEiIgoXhP0v0RERHFjMCEiItcYTIiIyDUGEyIico3BhIiIXGMwISIi1xhMiIjINQYTIiJyjcGEiIhcYzAhIiLXGEyIiMg1BhO6webNm2X9+vU6l3yPPfaY7NixQ+eIaCxiMMkgKMRRsEYqyNesWZN1hS+2h5vgZraZvTQ1NelnU2v37t3q8/FvsiT7+2Lfw3sGC/c4ZQcGkwzj8Xiko6MjZGHDs/f41dTUyLZt24aXhoYG/UxyoXBNZuAIJ13fl7IXg0mGKS4uloqKCtm3b59+ZMT+/ftlxYoVOpc9Nm3apJbxYOXKlapwx79E4wnnM8kgaObq6uqS5cuXy/bt21WhY+DsdsuWLeoxnO3W1dVJbW2teq6trU02bNig0oC/X7dunUqjNrNr1y51por3BAQrFM5oDsHnwRNPPDFcwJn1QC0JAQzM3xhmfQy8vzn7RZMKalfm78362J+H5xobG1XafB+sZ6T1MZ+P1+N5+/Pt7REMn4sgHOrsHM1nWBezvQCvx/fB+5nvgu+P9YPgbRG8/bEuXq83YP0Ajy9btky91v5++I3MbwP2+5v3Dv6+GzdulMrKSp0LFOn7ArafzX4vbA98fnNzs9rmobarWV97/4RQj+P9sP3A/s3N98L7m+9u/i54/cBsL+wLZp+E4HWg9GHNJAOZg9du1kJNBYVyMPugxIGFBQev3UaOQgEHIJ5DwYHnccA++uij6jEUnMEFH16DWpL9njiQwQQSHODmeRS09vqaAgTPoaDG+tjvZwoVAwXK2rVr1XOh1icYnsd3wetNgZSs5iR8l87OzuF1R95s31DbH+uCgg9pMNspVLAzBbD5LljwWcF9RPi+5nnsB0899ZR+Jjb43bF9zXshjfXH9zDMyQeeDxegAe9lLyYoGPgOq1atGv4sMPuQgb+xn8ff4PvZj2HbmkCCQGeeQzp4O1H6MJhkKBzM5kwYBzqCQXV1tcrb9uzZow4q+6DHWSnOLG3mTBdnoHg93t+cGd93333qX7tAwWvsM1u83gQIE9jM3wPy9hlj8Nk+mL8PBQWGOTtesmSJ+tden2D26/Hd8Xnt7e0qHwq2pV3wxRJ4gr8Ltg0KfMD2x/P29jeFYDRMwW3XMuxtbSAgGfh8U4MLJ9T3RQDEutq/q0m3tLSofwG/ZaQgYphC3Sz4TWzY5+x9JNR6298L8L3t/dz+G/wG9nrZvwOlH4NJhkIBj4MIhYAJGPaBaeBgwgFoFxwmCCUSCiHD1HTsz7QDSSgotFBImtfbtZhgZWVlOhU91HoiwWfbBV+obRkte1vAaJ89muD3QxMZhAum5vlIwn3fUOuKzx8tOMUD629+byyj7SOAdTEnBfh77Nv29rHfLxn7OcWPwSRDmRoEagGoZeBsMRQUDnidXXBgCW5GcssubHBw200RZrH7EUJBQMHrcDaa6GapeM9QgwvyeLg9Ow4uyH0+n/rXrq0kSqh1xecnYjsEC27+C7cPBzO1Kvw9gqKpjZi+LPN+SFPmYDDJYKbpCAd7uGYHNAnh7C3R/QV4T7vfBQe4uZIMwQvrFakZKhJT84inBmIgGJnPRy0H28g018UCwdg+Yzad/dEyNUi7poVCz2aCQyjYpti29rZEPtqCNxZmXe3f1aSjadaKRah9Y7SaCf4G62eCBRa7SS74dwluyqX0YjDJYOYAj1SwoPkCZ/rooLWbAOwCIx74TLv5DHlzYGO9cMaJM0f7MyM1XaGj1LzOnLG6OfO2Px+BBdsgnvfDd8JZuVk3U9OLFj7T1LTMe9hnzEib50JtH3w+tq29LfH5wf1NiWDW1Zz5Y0EahXai4bPwG4XbLqHgb/Aa83qzmH05eN3NyQ1lBl4aTGMOChIUVIk+m6b0Qu3aXLVmmMciXQpNmYE1EyLKCGgODO67SWb/ESUWgwkRZQTUNNHEZ5qxsKCZDLUSynxs5iIiItdYMyEiItcYTIiIyDUGEyIico3BhIiIXGMwISIi1xhMiIjINQYTIiJyjcGEiIhcYzAhIiLXGEyIiMg1BhMiInKNwYSIiFwbNZhgPgGM3hlq5jRM9mNG98TkR0RElJ0iBhMEkp07d4adeQ5DRpvpNSFUwCEiovEvqiHoUeuor6+POEEN5r1ubGzUucgw4U2kebGJiCi9vF6vWqKVkGCCZi5Oq0lElL1cd8AjkKCZi4GEiCh7RayZmMn8jbq6OlXt2bdvn6xbt06amppk165d+lnnefSjEBFRdol52l5cwdXV1SUNDQ36ESIiynYxN3N1dHQwkBARUYCYayZERETBeAc8ERG5xmBCRESuMZgQEZFrDCZEROQagwkREbnGYEJERK4xmBARkWsMJkRE5BqDCRERucZgQkRErjGYEBGRawwmRETkGoMJERG5xmBCRESuMZgQEZFrDCZEROSa62CCeeDXrFmjc0RElI1czbSIQALNzc3S2Nio0knX+rjI6Z/oDGWEhZtEFjypM6n1v/eekRf/4NM5WnVLsXzpnlk6l1q/bn1WXvzjP8uQ/z/KDHctqJEv3rlO55IrIdP2omYSSzDx+XxqiUfVqZt0ijLJMe826Z54p86lRk+/yHff8v+PAnzrnjwpzNeZFDlz7bD84oPv6xxlkq/d+gOdio3X61VLtNISTFxhzSQzeVeL3PpLnUmN/Ucuy1MvHdM5Mr7+0FypXlSkc6nxk73flvdOvqVzlCnGfc2Exomrv/eX6LfrjN9tO0U8NTqTfFvfPi27/tip0p+9vUS+sKJUpbPRv+4/Kzt+e16lH15WLA33pq6p69DZA/LD3X+jcyLffLBR5syo0DnKFq464NFn8thjj0lXV5f6t62tTT9DWWHKbSLlX9UZv6Pf0YnUaDl5VadEbp49Raey0zLr+x+0tksqvHLoX3XKfya8cBUDSZZyFUwaGhpk27Ztw0tlZaV+hrLGvP+kE34XXhE5/5zOJJfvSp8c77qu0rkTcmRZ+WSVzlbLyqdIXm6OSp+4cF3OXe5T6WT7w6m3pfXsuzon8lDV53WKsg3vMyF3CpeIzF2rM37HvqsTydVyauTsG4EEASWb5fi/PgKKYW+fZLJrJR+vqJWZU+fqHGUbBhNyD7WTnDwnfWmvyJmfOekkajl5TafYxGWkuqnr3WOvyWFfi0rn+KMZayXZjcGE3JtYHtjclYLaycGAmgmDCdhNfS2nRoJtsrxy6F90SuTBqi/I9MISnaNsxGBCiTH/P4vkTXfSV98TOfWPTjoJ0Fdy/orTJzClIFeWlBaqdLZbPLNQpk3KVenOq31ytLNHpZNh75FfyYmLH6h0QV4hayXEYEIJklsUWDs5mrzaiX0Vl920Q4Hbw24KTDS7r+RBfyApzJ+qc5StGEwoceb5aydo8oIe/1nr8eTcER3YxJXdV3EFs5v87O2USG+0Py/nrpxQ6WmTPP5ayRdUmrIbgwklTk6u09xloO9kqFdnEsfuD2DNJFBgzSTxwWRwaPCGWknuBH3xBWU1BhNKrDnfcC4Xht7TCW/uajvbLVevD6h0ydR8mTOjQKXJUT59opQWTVTp7r5BaT2d2KYudLpf7HHG1fNOKZcHljyi0kQMJpR4aO4yUDvp79IZ99hfMjq76S+RTV09/dduqJUQGQwmlHjlXxGZqsfsGric0EuFA/pLGExCCrh5MYGd8Agk3X3O9i8vWij3LvqMShMBgwklR/B9J9edDls3+geHAmsm7HwPyb6JE3fC9/a7n1/kUk+nauIycF8JkY3BhJKj9DGRonud9NBgQmonCCT+eKLMKy6Q4ikpnrRjjPBMzpMF3kk65wQUt1ArGRh0+qoWFC+V5fMfVGkig8GEkme+VTs58QOR7kM6E5+D9lVcvOs9okReInz+6kl5vX1kAE/2lVAoDCaUPN5a/2nywzrj5/LKLna+R2/ZbGtoFZeXCNud7pUz75DbZt+nc0QjGEwouewru07/WOTKAZ2JzeWeAek4161zDCajudmqmRw+3yMXu+Ob3vjkxcPy9uEXdY61EgqPwYSSCzWTEn8NxYiz78Ru968qmyyF+dx1I5nk3z5LZ9mXCMd3VZfd6X5L+d2ytCy18/zT2MEjkpLPrp2cfVbk4h6diZ49pDprJdGxt1M8TV1HOg/KO8de1TnWSigyBhNKvqJ7nKu7jGOxT+8bMIQKLwmOit3UFc8VXXZfyUfn3i+LvbfoHNGNRg0mmNvdLKGM9jyRYt934ntBpGuXzozu7OVeOXnBmaI3PzeHNZMo3ewPugV5ziF++mKvnLkU/Thph84ekPdOvqVzvK+ERhcxmDQ1NUldXZ2a372mpkblbTt27Ah4HnmikHBHfPlXdcYvhiu7Dlp3cTOQxCbepi67VnLXwlUyd0aFzhGFltPa2jpUVVWls4HWr18v9fX1UllZKbt375Z9+/bJunXr9LOONWvWSFdXl1RUVMimTZv0o5H5fD61UHbJ7z8qi859UudETnr+Qa5MGsmH89z7A/LeWeduxYcXT5B757J1Nlp7jw/Krg8GVfrW0hx5ZKkzeVYkRy69Jy8e/ZHOiTxa+aTMKCjVOcoWXq9XLdFyFUza2tpk69atKoigmWvjxo3qtURhdawVOf73TrrobpGPvu2kI/jrbYek65pzaeumzy2WRSUjd3dTZEd8PfLkc86MiNML86Tx34c+1m0/eH3d8NzuH6+olUdu/5pKE0US8RTP4/FIS4uzU7W3t6vah+2FF16QVatWqTSau/bsif0qHcoyuLIrR89/cWmvyJmfOekwjvoLQxNIivyFIQNJbBZ6J8mMyc72xr0mR85Hnsr33WOvDQeSnJwcTsdLUYsYTFavXi3bt29XtY7m5mapra1VNZTNmzer56urq2XLli3qebzuvvt4ZyyNAjMxBg8CGYF9FRKv4opPwCjCo1zVFTyY4/TCEp0jiixiM1co6GRHH0lDQ4N+hChG/ZdEfjPf/+9FJ1/1jyLl/8FJB9m865i8e/SySn95Zbk8uNSj0hS9V1u75MdvnlLpO+ZNlW+u8m/7EPYe+ZVsf/cplS7IK5QNn/4p53anqMXck9nR0cFAQu7kFQXVTsLfdxJYM+GVXPEIrJmEvxPevoILNygykFAsYg4mwVdzEcUFwQRNXtD9gcjx7ztpC6ac7elzrkQqK5oos6Y709FSbLDtMJ0v9PYPhhxF+I325+XcFWfOmWkFHnmI95VQjHiNJaUHOuGDp/cdCrypLqBWwvtLXAm83ySwdjI4NHhDrSR3gr5IgihKDCaUPnO/IVK4xEn3nr7hRka70GPnuzuRhlZBILnY49z35Z1SLg9UPqLSRLFgMKH0Cr6yq/+CSgY3x7Bm4o49v4ndfNjTfy3oCi5eCkzxYTCh9MIQKxhqBQYuD3fG2x3FuFcCN9xR/Iom5cnimYU6h1qfE6hRK+nuc9LlRQvl3kWfUWmiWDGYUPoF106unwgYR4q1ksTAwI8Gmrou9XQG9ZWw053ix2BC6Yfh6YvuddJDgyqgsPM98YIvEUYgGRh0RhdYULxUls9/UKWJ4sFgQpnBrp2c+IH0XHxfZ1AIsvM9ERCUc3Qaw9S8eugVnWNfCbnHYEKZAVP7Yopf7c+Kf6L+RdPMRD0nB7kTPBdMb79zJV3lzDvkttkcConc4VFKmcO67+SBon+TBQUHedd7gtmXCPf1OcGEtRJKBAYTyhyomaCGov2Z5yfsL0kw+xJhBJNbyu+SpWV36keI4sdgQhnF5xkZrueeaf9Pbio8oHOUCBPzP5ScHGcY+oFBr3yknFdwUWIwmFBG+d2lj8hbl/9U5/xGGaKeYoMruCbmt+mcyOXu2TpF5A6DCWUU3F/yf7oe1zk/3y9FunbpDLlx6OwBee/kW5Kf164fGbl5kcgtBhPKKAdPXZOj12+SVy/+hX7Ej7WThDA3KObnjwSTUCMIE8WDwYQyxuHzPWpqWXizx5osq+tlkfPP6QzF4w+n9krr2XdVOi/3lMyY7Bz6l3sGpONct0oTucFgQhnDbnIpKV3mjCpssHbiij2Y48crauXWOdN0jk1dlBijBhPM726WUDAfvHke88MTxeuGWRVx3wnmPYFLe0XO/MxJU0zePfaaHPa1qHROTo66r8S+fwdNi0RuRQwmTU1NUldXJ9u2bZOamhqVt2E++OLiYvU8lpUrV+pniGJ3MGBwx8nOTIzBg0BSzAIHc/y8zCgsCbh/BzWTwaEhnSOKT05ra+tQVVWVzgZav3691NfXS2Vlpap17Nu3L2DaXtRK9u/fr3MiGzduVK8djc/nUwuRceTCkGz9/YBKl0zOkSeW56r0hKErsvjMA/5/L6v8menflouT61SaRnew62157cQzKp0/oUC+dNNGKch1blz84f4BOXfNCSJ/+ZFcWewxI3cRiXi9XrVEy3Uwqa6uVjUS1FK6urqkoaFBP0sUvZ+/c06eP3BOpR+62SN/dZ+eHx6O/q3I4f/qpAsrRKpHrkaiyP521+PDc7t/elm91Cwdaa7+57dOy69bOlW69o4S+fzyUpUmikfEZi6PxyMtLU5ba3t7u1RU+A9kC5q48DggkBDFK+KsimjqmqhvruvuEDn+fSdNEb3R8fxwIJlW4LlhDC57aBV2wpNbEYPJ6tWrZfv27apzvbm5WWpra1UNBTUSQC1k165dw8+zVkLx6O4bVFPJGjcM7ohO+PlBfSdDvTpDoQwODd7QV5I3IV/nHPZ2bjvbLVevO82MRPGIGEzQvGU61xsbG9Vj6OtAjcQIfp4oVvZZMaaWnTbJ6S8JMOcbIoXOKLfSe1rkKDvjI0Egudjt9Et6p8ySByofUWnblIJcWVJqTeXLq7rIhVEvDQ7W0dHBGgglVMQmLps1RL2qnfRf0Bmy9fRjFsWR+0oiTcdrb2/7ajqiWMUcTOwOeKJEaDlpN3FFmFWx/CsiU2930gOXealwGKiVdPc5gaG8aKHcu+gzKh2K3dRl3+dDFKuYgwlRInVe7ZOjnc6Q6Dk5o9RMIOC+k++IXHc6mMlxqafzhr6SSNAJnzvBuST4eNd1OX+lT6WJYsVgQmllt9PjLDlPF2xhlT4mUnSvkx4aZO0kCALJwKAzvtmC4qWyfP5DKh3OBH8ED2jqYu2E4sRgQmkVeNf7KLUSw66dnPiBSPchnclu56+ektfbRwbEHK1WYthNi3aTI1EsGEworW4YjysamNrX80md8eOVXYrd6V458w65bfZ9OhcZ+00oERhMKG1OXLgu5y47bfSTJ+ZKZdnIZaqjsmsnp38scuW3OpOdTl48LG8fflHnoq+VQEVpoUwtcC7H9l3pk2Nd11WaKBYMJpQ2NwzsGAvPw04NxUBnfBazO91vKb9LlpbdqXPR4SXC5BaDCaVNcOd7zOz7Ts4+K3IxO6dAOOJrkXeOvaJzke8rCYdNXeQWgwmljX3ne9Sd77aie5yru4xj/0MnsstLVl/Jx+Y+IIu9t+hc9ALH6WInPMWOwYTSov1st1zRY0F5p+bLXE+BSsds/n/RCT/f/3WWLHLwzH7546m9Oify0E2x10pg9owCmTnNGbvrWu+AtJ1hQKHYMJhQWgQMoRJPE5cx5SP+kvBrOuOXZbWTl1u365SoO91nT1+sc7ELbOpiMKHYMJhQWgQMoRJr53swu+8E/SZnncmgxrsDx1+XjvPv6RxqJe4mDbObGjkkPcWKwYRSbmBwKL77S8KZtCAwoBzNjtqJXSvBpcDFk8t0Lj43B3XC9w1wKl+KHoMJpdzBU9dUQAH0laDPxDX0neQVOemrvxc5+b+c9DiFe0pOXPxApQvyCuWhOK7gClY8JU/mF09SaUwJz6FVKBYMJpRyrq/iCiVvhr92YnXGj/O+k5cPjdRKEEgmT5ymc+5w9kWKF4MJpVxCm7hsqJ0UzHPSPR+O20EgX237ufiunlbp6YVe130lNnbCU7wYTCilcDkwLgs2XHe+B8jxB5SgvhPMezKO9A70yEtWX8lDVXUyISdxh/HNVk3xg3PdcrmHU/lSdEbdCzG/u1nCWb9+vVqIRmO3w1eWFqoxuRJq9hqRKfqmvf6ucdcZ/3Lrv8i1XidAlk2bLx+v+KxKJ0ph/gS5aRabuih2EYNJU1OT1NXVqTnea2pqVD7Yjh07xOPx6BxRZIGXBCewicsW3Hdy/bjOjG2Y+CqgVhLnDYqjCWzqYjCh6OS0trYOVVVV6Wwg1Dbq6+ulsrJSdu/eLfv27bth2t41a9bI2rVrZevWrbJp0yb9aGQ+n08tlH1+uH9Azl1zruT60m25smjGKJNhxWme74tS2HtApS9M+Us5WzT2a867T/2bvOd7XaXLJi+URxYnZwrtIxeGZOvv9egEk3NkzfIE1x5pTPB6vWqJlqtgsnnzZqmurpaysrKYggllJ0wJu/bZNpXGjIpP/9XNaqrepPD9UuQP1qjCK/4oMnmZzow9Zy8fk7/79Vd1TuTxuzfIrbPv0bnE+/LTB6VX32ey+QtLpLRookoThROxmQvNVy0tLSrd3t4uFRUVKm10dHTIli1bZMOGDSqN4EIUTvAlwUkLJOD9rEjxp3TGb4z3nbxkXQqM4eWTGUgg4G54XtVFUYgYTFavXi3bt29Xne/Nzc1SW1uraigmaDQ2Nqr+lI0bN6pAE9wERmQLvCQ4kVdxhWH3nZz5qcilt3VmbPmws1WaP3xJ55z7SpItMJiw34RGFzGYoHkLwQILAgegr6O4uFilDbyOTVw0mpR0vttm3C8y07oHY4zWTuwbFO+Y83FZMvN2nUsee2gVTpZF0Rj10uBgaM5qaGjQOaLoHOu8Lp1XnSl6p03KlcUzY5ii1w37vhP0o3Tu1JmxofXsu/Leybd0zv1gjtFaVDJJphfmqXTXtX750Nej0kThxBxM2JRF8UjaXe+jmfpRkfKRjuuxNsyKPZjj3Qs/JXNnLNG55LObItnURaOJOZgQxSMp43FFy55A68JrIudGZibMZL87sVvazv1O51LTV2Kz74bn7Is0GgYTSgn7zvebU9H5bpu0WGTeN3XGb4z0ndi1kgcqH5GSqbN1LjXsoM8RhGk0DCaUdIfOXJNrvYMqXTptopoiNuUw30muLhyvHBA59U9OOkP95shOOXbBuScnP3eiGoMr1WYVTVQL9PQNyvunWTuh8BhMKOkSOqtivPJLnIBiZHjfSeAQ83UytWC6zqVWYFMXaycUHoMJJZ3deWtfcppy6DuZWO6kuztEjn/PSWeY19t/IeeunFTpaZM8SRuDKxp2JzybuigSBhNKKkz9at+nkPLOd1tOfmBnPPpOBjOr6aZ/sE9eah25QACd7nkTEjATZZwC+02uyfV+p7mSKBiDCSUVmkbMTOILvJPEM9m5dyFt5nxdZPJSJ9133h9QvuOkMwRGBb5y/YJKz5w6R+5f8ucqnS6412RhiTOVL/CqLgqHwYSSKmOauGx23wlqJ73OrIXphiCC+UqMVN2gOBoOSU/RYDChpDqYCZ3vwWY1iEyrdtJDvRlzqTBqJf2D/vXxm+epkrsW1Kh0ugU0dbETnsJgMKGkudTdLx+ct6bozZSaCdh9Jyf+XuRaq86kx7krJ+T19ud0TuThFN+gGIndCX/E1yMXrvXrHNEIBhNKGnvockwFOyk/g3a3kj8X8XxSZ/yOpbfv5OVDI81bVaV3yG1zVupc+k3MmxDQRMmmLgqFwYSSxi500noVVzj2IJCnnxa53KwzqXWsq03dpGik4wbF0dhNlHbTJZHBYEJJE3BJcCY1cRkzHhKZ+e90xi9NfSf2DYq3zb7PXzP5qM5lDnbC02gYTCgpzlzqlVMXnc5kp5kkQzrfg9kTaJ3/hUjXyCRUqdB27rdqQEcjnTcoRmI3U9q/LZHBYEJJEdDElamBBKYtF5n1ZZ3xS/EwK/alwNULPinzPTfpXOaxmyo5tAoFYzChpAi8JDgDm7hsdt9J18tODSUFMOkVJr8yMrGvxGY3dXFoFQo2ajDB/O9mCbZjx47h59avX68fJRoDne+2wiqRuWt1xi9FfSd2X8knlnxOSqfN1bnMZHfC21fqEUHEYNLU1CR1dXVqDviamhqVt9XW1g7PEQ9tbc6Q2ZTd7HsR1HAc3pHhODIW+k4m6KHxcVUXru5KouYPfy0fdjr3tuROyFNjcGW6+cUjw+EE30NElNPa2jpUVeU/MwsBtY36+nqprKyU3bt3y759+8JO27tmzRppbGzUuch8Pp9aaHzae3xQdn3gDAh4a2mOPLI0V6Uznffy/xTvlX9Q6d68RXJk5q9UOhmebfvv0nX9jEovL/2UrCj9jEpnuufeH5D3zjqjrT28eILcO5ct5eOV1+tVS7QSEkzQzLVx40b1OqLv7ToqB45eUenHV5bLnyz1qHTGG/Sfae9dKNJ31slXPCUy9xtOOoHe7Nghv/jdD1V6ysQi+W+f/qlMzE3DhGFxeP3QBfnRG87w+LfPmyrfWjVfpYkinlZ4PB5paWlR6fb2dqmoqFBpGwIJmrkYSMgInAwrw/tLbBMKAzvjcWWXHisrUQaHBgKHmL+pbswEEgi438QaEZooYjBZvXq1bN++XQWM5uZm1UeCGsrmzZvV86YPxXTCo0Oesps958Ws6ROlTE/7OmbM9de8C5c4aYwmnOBLhTGY46Uep4nXO8Vfa6u0bpocA2ZOyx+edjl4rhrKbhGbuUJBwOjq6pKGhgb9CNGIX7x7Ti3w4FKPfHmlntlwLDn9Y5HWrzhp1Fbu/lAkf6aTd+Fq7yX59q/qpbe/R+W/8LFvyD0LP63SY0nTnlPy0sEulf7cR0vkL+4sVWnKbjH3nnV0dDCQUFj2zWxjqonLNutxkWl3Omn0oyRoAi3coGgCyZwZFWMykEDgzYu8RJgcMQeTcFdzEfX0Dcr7p63+kky+83009gRamCsec8a74Lt6Wl5t+7nOYYj5zL5BMRI7mBw6c02u9XIqX4ojmBCFY98VvahkkhQVpnmKXjdmfl5kxp/ojJ/LvhP7BsUlJbfJHXM/oXNjz9SCXKmYWahzvBueHAwmlDBj9iqucOwJtE79k8iVkaFPYnHiYoe8ffhFncvcwRxjEdjUxWBCDCaUQIGDO46DYOKpESn5nM74xdl3Yg/meGv53bK0bLnOjV12EyaHpCdgMKGE6LrWLx/6nM5lGBc1E7D7Ts75g8KF13QmOh3n35MDx1/XOee+kvEAv++EHCd9rPO6dF7tczKUtRhMKCECJsLyFzT5ubqkGeuK7hYpq9cZvxj7TuxayfL5D8nC4pt1bmzL9UeSwKYuXtWV7RhMKCHGzPwl8bD7Tjp3iviiuzn3j6f2ysEzI1MBj4XBHGPB2RfJxmBCCWEPST5umriMyf7axJy/1hm/KIeof/nQSK1k5eLVMqtogc6ND4E1EwaTbMdgQq6dunBdzl5yxrAqzJ8gVWXjrGYC6DvJ0Zc6X9orcuanTjqMd469Iod9zrh2OTk546avxLaktFCmFDgjQp+/0icnuq6rNGUnBhNybVzXSoyCOYGd8aPUTuy+EsygOKOwROfGFzZ1kcFgQq4F9JeM12AC6DvJK3bS1/y1jhPO3CfBdn/wgpy6dESlC/Onjov7SsIJmH2RnfBZjcGEXAsYj2u8db7bcqcGdsbjyq6hAZ1xDPn/C6iV+APJpLzxu01YMyGDwYRc+eBct1zucQrU4in5Mq94DEzR68a8b4lMWuSkr5/wB5TAGxkRSC50O6MmeyaXjrsruILN8RRIydR8lb56fUDaz3Iq32zFYEKuBPSXjOdaic2eQAt9J/3OcOzdfVcDruBCX0k24FVdBAwm5Mq4GHI+VuX/UWTq7U564PJwZzwGc+zxBxQon75I7lv8pyo93rGpi4DBhOI2NBRYeGRNMIF5dt/Jd+Vi1zsBfSUPj/PmLdvNVic8ZtocGORkvtmIwYTihkDSP+AUHHNmjLSdZ4XSL4pMHxlG3vf+Wp0SWey9RT42zxq+fpzzoq/M40zli0DC2kl2chVMMB+8mf99/fr1+lHKFlnZxGWz+k4W9+6W2bmXVXo83qA4msB+E14inI1ingPehgBSX18vlZWVKr1q1SpZuXKlfjY5/ua5XXLMN1fnKFMUTW2Sgom/17ns8ZVp78otE52rt4gyTat8UW66/xmdSy5XwWTNmjXS2Nio0k1NTeLxeKS2tlblI/H5fGqJx7ff6NcpyiQlniclJyf7zkgX5V2Qr0//jc4RZZ5D5a06FRuv16uWaKUlmBAR0fjiugO+ra1N/dvR0SHLli1TaSIiyi6ugklNTY1s2LBBdcCjVoK+EyIiyj6umrmIiIiA95kQEZFrDCZEROQagwkREbnGYEJERK4xmBARkWsMJkRE5NqYuzQYY4DhBkl44oknkj4WWDi4t6auri4td/zjRlHc32Ns27ZNp1IHg3xu2bJFpXGPkRkJIR02b96s9ol0rIO9HWDjxo1pud8KI1Ds2rVLpdOxX+I32L9/v84596A1NDToXOrguDTScVyAWYd0HBcYlWTFihXD297+XZK9X4ypmgkOXPxA2EkQSHbu3KmfSS3sLDhY0gWFFbYBFqzHjh079DOpgyBu1qG4uHh4JIRUwz6RbsuXLx/eFukIJNgGnZ2dw+uQjhOcdevWDX8+tseSJUv0M6mD4wAFJtYhXccFCm+zDhUVFSldBxNIDByTXV1dal1wkmNONpJlTAWT9vZ29QMBCjMcQOmAHydTpHMYG+y8CKwoPNI1+sEzzzyjCrJ0wpkftoN9VpxKOC7sdUhngDUFWDpaDBBEUWBiG+C4SEdQBTM4IsoqbItUQS0IJ9tGS0vLcHmZiuOTfSZjGJr80lmQY+dFYMWBm46zQDTtpLOGCHYNDeuCdUoHczaMGvu+ffv0o6n3wgsvqKko0gGBDLVks0+mo7ZcXV2tmj0R0LZv364fzQ5jKpgg6mInAZx9maibjcz8Mek6+7LhAE4H7As4YHHg4gwQ2yTd7DPDVLGPi3indkiEdNZKwA5kCK579uxR6VSyTy7S1dxnoIZk9gsTaJNpzHXAo2nFVB3T1dmJwsvADpPqZhYEUrvTNx3rYHf4Iqhv2rRJpdPFng4hlTJlO9jHBQqydEjVBHnhBB8X6Sgf7P0BNdVUXoRg7wNmX0zlBUsc6JGIiFxjnwkREbnGYEJERK4xmBARkWsMJkRE5BqDCRERucZgQkRErjGYEBGRawwmRETkGoMJERG5xmBCRESuMZgQEZFrDCZEROQagwkREbnGYEJERK4xmBARkWsMJpR09mRi4w2mK8b327x5c0A6VpjEKNw0s+Gei/Q3YwUmdKLxgcEky6AAQoGHBelUSNfMf4mGmfyw3ewCHDPbYQY7zHRppyk0s+8xiIw/nGkxQzz7zmb5zYfOdJ/JcNeCGvninetUAKmvrx+ezhQF5M6dO9UUnzijrq6uVvnOzk5VONpTAttTkpopQPF+5rVmmlI8hqlCzdShZkpdnLnjdXgNCmTM2Y15qYPfMxY/euOkvH7ogs4l3v1VM+Srn5it0qbGgXXGd8D3wRz0gO9qpkfF/OOYf9tMIWtvQxPAsc2wvczfYx73tWvXytatW2+YZtXexvbUwOa3bGlpGX4ffHZtba1KR631cZHTP9GZJJj1ZZGbfqz2g0cffVR9J+x3mK8evz22J76zPc1tqH3NnpbWTMlrb5t0TF9NI1gzyRDJDCRgv/+GDRvU2SEKQxykKMhMQYk8Dk4UbKhR4CA3Z+JI4zEsCDiA16KAwGPNzc3qtXg/5IPnQ0chh9fAnj17hgvg4PeMRTIDCdjvjwJr9erVw98B3wcFGAo7fFeTxuPPPPPM8PfC36HwNDBPOoIrCkvzGgPvgzzep729XT8qw9sY7PeC/fv3D78P0jFLZiAB//tjv0DQwP4F+NcEPWwPrLvZrhBqv8A2Qx4BEwEUwu2rlHoMJhkCNYdkst8fZ3U4+MzBjLM5FEIoKA1Tc0GBDzhIcbCaZgocxIYpIAB/h0LDBKtgeD+8FwqOZcuWhX3PaKHmkEzm/fFdsO7m+wUX6MHwGsNsQ6OsrEynRpjXI6hjW6BWY28P8zfB7wX2NkQ6Zqg5JNMo72/vPxBuX0MtBHnUwkwNBYL3VUoTNHNR9njyySeHDh06pHOO733ve0NPP/20eg78Z8XDrzFpLOZ5G5437DSYvP34888/rz4PS7j3zERYT3/tYHjB+gP+ffPNN29I4zWGvc3tdPC2s7cH3sd8Bh4z7xucxt8Eb/dMhfU0645/sS8EbwMItV/gMbM98HfYX8Fst+A0pR5rJlnINHPhTM/UHtBWjeYpk3/qqafUa1asWKHO/LDgzM+cLYa7Ygln7OY1+NtgqA2hFoS+mWjfM91MLcQ0u2AZrTkJTTHme+E7mrNnG/oIzGvsmgzyaCazoakHj+M3Cj6Tt98Hv2mmQnMUalzm+5macbBQ+wUeM7UV05diBO+rlB7sgKcbmA5zokzHfTVzsGZCRESusWZCRESusWZCRESuMZgQEZFrDCZEROQagwkREbnGYEJERK4xmBARkWsMJkRE5BqDCRERucZgQkRELon8f3bJ8L6HytWDAAAAAElFTkSuQmCC)"
      ],
      "metadata": {
        "id": "NC6jMVDGVjkR"
      }
    },
    {
      "cell_type": "code",
      "source": [
        "# Membership Function of harga\n",
        "def member_harga(x):\n",
        "\n",
        "  # Membership Function for harga(Expensive)\n",
        "  if x >= 7:\n",
        "    Expensive = 1\n",
        "  elif x < 5:\n",
        "    Expensive = 0\n",
        "  else:\n",
        "    Expensive = (x-5)/(7-5)\n",
        "\n",
        "  # Membership Function for harga(Affordable)\n",
        "  if 4 <= x <= 6:\n",
        "    Affordable = 1\n",
        "  elif x <= 3 or x >= 7:\n",
        "    Affordable = 0\n",
        "  elif 3 < x < 4:\n",
        "    Affordable = (x-3)/(4-3)\n",
        "  else:\n",
        "    Affordable = (7-x)/(7-6)\n",
        "\n",
        "  # Membership Function for harga(Cheap)\n",
        "  if x <= 3:\n",
        "    Cheap = 1\n",
        "  elif x > 5:\n",
        "    Cheap = 0\n",
        "  else:\n",
        "    Cheap = (5-x)/(5-3)\n",
        "  \n",
        "  return [Expensive, Affordable, Cheap]\n",
        "  \n",
        "\n",
        "# contoh kasus\n",
        "c_harga = 7\n",
        "fuzzy_value = member_harga(c_harga)\n",
        "print(\"Expensive =\",fuzzy_value[EXPENSIVE],\"\\nAffordable =\",fuzzy_value[AFFORDABLE],\"\\nCheap =\",fuzzy_value[CHEAP])"
      ],
      "metadata": {
        "colab": {
          "base_uri": "https://localhost:8080/"
        },
        "id": "i6UyZ4QzJIDH",
        "outputId": "73a8004f-f679-4970-bbde-47cd83d15776"
      },
      "execution_count": 4,
      "outputs": [
        {
          "output_type": "stream",
          "name": "stdout",
          "text": [
            "Expensive = 1 \n",
            "Affordable = 0 \n",
            "Cheap = 0\n"
          ]
        }
      ]
    },
    {
      "cell_type": "markdown",
      "source": [
        "# Inference\n",
        "Determine the fuzzy output using predefined rule\n"
      ],
      "metadata": {
        "id": "ZPF9a74U7u_q"
      }
    },
    {
      "cell_type": "markdown",
      "source": [
        "![image.png](data:image/png;base64,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)"
      ],
      "metadata": {
        "id": "frS248P5WDTD"
      }
    },
    {
      "cell_type": "code",
      "source": [
        "def inference(servis,harga):\n",
        "  # Using Clipping technique, the conjunction rule will get the minimum value of fuzzy input as the fuzzy output\n",
        "  good = [min(servis[HIGH], harga[AFFORDABLE]), min(servis[HIGH], harga[CHEAP]), min(servis[AVERAGE], harga[CHEAP])]\n",
        "  normal = [min(servis[HIGH], harga[EXPENSIVE]), min(servis[AVERAGE], harga[EXPENSIVE]), min(servis[AVERAGE], harga[AFFORDABLE]), min(servis[LOW],harga[CHEAP])]\n",
        "  bad = [min(servis[LOW], harga[EXPENSIVE]), min(servis[LOW], harga[AFFORDABLE])]\n",
        "  # print(good,normal,bad)\n",
        "  # Using Disjunction rule, get the maximum value for each fuzzy output\n",
        "  good = max(good)\n",
        "  normal = max(normal)\n",
        "  bad = max(bad)\n",
        "  return [good, normal, bad]\n",
        "\n",
        "# Contoh Kasus\n",
        "servis = [0,0,1]\n",
        "harga = [1,0,0]\n",
        "fuzzy_output = inference(servis,harga)\n",
        "print(\"Good :\", fuzzy_output[GOOD],\"\\nNormal :\", fuzzy_output[NORMAL],\"\\nBad :\", fuzzy_output[BAD])"
      ],
      "metadata": {
        "colab": {
          "base_uri": "https://localhost:8080/"
        },
        "id": "CGQs3nXv-lXn",
        "outputId": "31b57464-21b2-4a5d-cbcc-3469140e253c"
      },
      "execution_count": 5,
      "outputs": [
        {
          "output_type": "stream",
          "name": "stdout",
          "text": [
            "Good : 0 \n",
            "Normal : 0 \n",
            "Bad : 1\n"
          ]
        }
      ]
    },
    {
      "cell_type": "markdown",
      "source": [
        "# Deffuzification - Sugeno\n",
        "### Apply the fuzzy output to the equation\n"
      ],
      "metadata": {
        "id": "oMWoP4gN4l8b"
      }
    },
    {
      "cell_type": "markdown",
      "source": [
        "![image.png](data:image/png;base64,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)"
      ],
      "metadata": {
        "id": "p_n5yQ_0XRh4"
      }
    },
    {
      "cell_type": "markdown",
      "source": [
        "![image.png](data:image/png;base64,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)"
      ],
      "metadata": {
        "id": "F0EnzbnQv4SN"
      }
    },
    {
      "cell_type": "code",
      "source": [
        "def defuzzification(x):\n",
        "  pembilang = (x[0]*100)+(x[1]*75)+(x[2]*50)\n",
        "  penyebut = x[0]+x[1]+x[2]\n",
        "  z = pembilang / penyebut\n",
        "  return z\n",
        "\n",
        "# contoh kasus\n",
        "fuzzy_output = [1,0,0]\n",
        "defuzzification(fuzzy_output)"
      ],
      "metadata": {
        "colab": {
          "base_uri": "https://localhost:8080/"
        },
        "id": "jxmFqdMDd-w0",
        "outputId": "95bd1d99-4b3a-4069-d548-272f8946179f"
      },
      "execution_count": 6,
      "outputs": [
        {
          "output_type": "execute_result",
          "data": {
            "text/plain": [
              "100.0"
            ]
          },
          "metadata": {},
          "execution_count": 6
        }
      ]
    },
    {
      "cell_type": "markdown",
      "source": [
        "# Implementation"
      ],
      "metadata": {
        "id": "hUH0a4_D46Re"
      }
    },
    {
      "cell_type": "code",
      "source": [
        "hasil = []\n",
        "for i in range(len(id)):\n",
        "    s_values = member_servis(servis[i])\n",
        "    h_values = member_harga(harga[i])\n",
        "    f_output = inference(s_values,h_values)\n",
        "    hasil.append(defuzzification(f_output))\n",
        "    # print(hasil)\n",
        "    \n",
        "Data['score'] = hasil\n",
        "print(Data)"
      ],
      "metadata": {
        "id": "tyOEgzJm48oc",
        "colab": {
          "base_uri": "https://localhost:8080/"
        },
        "outputId": "85e742eb-b3f3-4197-a460-236470b8be10"
      },
      "execution_count": 9,
      "outputs": [
        {
          "output_type": "stream",
          "name": "stdout",
          "text": [
            "     id  servis  harga       score\n",
            "0     1      58      7   75.000000\n",
            "1     2      54      1  100.000000\n",
            "2     3      98      2  100.000000\n",
            "3     4      52      4   83.333333\n",
            "4     5      11      4   58.333333\n",
            "..  ...     ...    ...         ...\n",
            "95   96      30      1   75.000000\n",
            "96   97      25      3   75.000000\n",
            "97   98      27     10   50.000000\n",
            "98   99       8      6   50.000000\n",
            "99  100      11      8   50.000000\n",
            "\n",
            "[100 rows x 4 columns]\n"
          ]
        }
      ]
    },
    {
      "cell_type": "markdown",
      "source": [
        "## Produce 10 id with the highest score"
      ],
      "metadata": {
        "id": "IQcXCLtsP8gg"
      }
    },
    {
      "cell_type": "code",
      "source": [
        "Data = Data.sort_values(by= \"score\", ascending=False)[:10]\n",
        "Data"
      ],
      "metadata": {
        "id": "dRtB4C3kPHL7",
        "colab": {
          "base_uri": "https://localhost:8080/",
          "height": 363
        },
        "outputId": "47240e8d-8663-420d-d843-e41c4ace0be4"
      },
      "execution_count": 10,
      "outputs": [
        {
          "output_type": "execute_result",
          "data": {
            "text/plain": [
              "    id  servis  harga  score\n",
              "74  75      61      1  100.0\n",
              "90  91      98      3  100.0\n",
              "2    3      98      2  100.0\n",
              "43  44      63      2  100.0\n",
              "33  34      93      4  100.0\n",
              "1    2      54      1  100.0\n",
              "51  52      94      3  100.0\n",
              "16  17      70      3  100.0\n",
              "14  15      78      5  100.0\n",
              "91  92      83      3  100.0"
            ],
            "text/html": [
              "\n",
              "  <div id=\"df-64625e08-8604-4550-8c44-acff9566a7a7\">\n",
              "    <div class=\"colab-df-container\">\n",
              "      <div>\n",
              "<style scoped>\n",
              "    .dataframe tbody tr th:only-of-type {\n",
              "        vertical-align: middle;\n",
              "    }\n",
              "\n",
              "    .dataframe tbody tr th {\n",
              "        vertical-align: top;\n",
              "    }\n",
              "\n",
              "    .dataframe thead th {\n",
              "        text-align: right;\n",
              "    }\n",
              "</style>\n",
              "<table border=\"1\" class=\"dataframe\">\n",
              "  <thead>\n",
              "    <tr style=\"text-align: right;\">\n",
              "      <th></th>\n",
              "      <th>id</th>\n",
              "      <th>servis</th>\n",
              "      <th>harga</th>\n",
              "      <th>score</th>\n",
              "    </tr>\n",
              "  </thead>\n",
              "  <tbody>\n",
              "    <tr>\n",
              "      <th>74</th>\n",
              "      <td>75</td>\n",
              "      <td>61</td>\n",
              "      <td>1</td>\n",
              "      <td>100.0</td>\n",
              "    </tr>\n",
              "    <tr>\n",
              "      <th>90</th>\n",
              "      <td>91</td>\n",
              "      <td>98</td>\n",
              "      <td>3</td>\n",
              "      <td>100.0</td>\n",
              "    </tr>\n",
              "    <tr>\n",
              "      <th>2</th>\n",
              "      <td>3</td>\n",
              "      <td>98</td>\n",
              "      <td>2</td>\n",
              "      <td>100.0</td>\n",
              "    </tr>\n",
              "    <tr>\n",
              "      <th>43</th>\n",
              "      <td>44</td>\n",
              "      <td>63</td>\n",
              "      <td>2</td>\n",
              "      <td>100.0</td>\n",
              "    </tr>\n",
              "    <tr>\n",
              "      <th>33</th>\n",
              "      <td>34</td>\n",
              "      <td>93</td>\n",
              "      <td>4</td>\n",
              "      <td>100.0</td>\n",
              "    </tr>\n",
              "    <tr>\n",
              "      <th>1</th>\n",
              "      <td>2</td>\n",
              "      <td>54</td>\n",
              "      <td>1</td>\n",
              "      <td>100.0</td>\n",
              "    </tr>\n",
              "    <tr>\n",
              "      <th>51</th>\n",
              "      <td>52</td>\n",
              "      <td>94</td>\n",
              "      <td>3</td>\n",
              "      <td>100.0</td>\n",
              "    </tr>\n",
              "    <tr>\n",
              "      <th>16</th>\n",
              "      <td>17</td>\n",
              "      <td>70</td>\n",
              "      <td>3</td>\n",
              "      <td>100.0</td>\n",
              "    </tr>\n",
              "    <tr>\n",
              "      <th>14</th>\n",
              "      <td>15</td>\n",
              "      <td>78</td>\n",
              "      <td>5</td>\n",
              "      <td>100.0</td>\n",
              "    </tr>\n",
              "    <tr>\n",
              "      <th>91</th>\n",
              "      <td>92</td>\n",
              "      <td>83</td>\n",
              "      <td>3</td>\n",
              "      <td>100.0</td>\n",
              "    </tr>\n",
              "  </tbody>\n",
              "</table>\n",
              "</div>\n",
              "      <button class=\"colab-df-convert\" onclick=\"convertToInteractive('df-64625e08-8604-4550-8c44-acff9566a7a7')\"\n",
              "              title=\"Convert this dataframe to an interactive table.\"\n",
              "              style=\"display:none;\">\n",
              "        \n",
              "  <svg xmlns=\"http://www.w3.org/2000/svg\" height=\"24px\"viewBox=\"0 0 24 24\"\n",
              "       width=\"24px\">\n",
              "    <path d=\"M0 0h24v24H0V0z\" fill=\"none\"/>\n",
              "    <path d=\"M18.56 5.44l.94 2.06.94-2.06 2.06-.94-2.06-.94-.94-2.06-.94 2.06-2.06.94zm-11 1L8.5 8.5l.94-2.06 2.06-.94-2.06-.94L8.5 2.5l-.94 2.06-2.06.94zm10 10l.94 2.06.94-2.06 2.06-.94-2.06-.94-.94-2.06-.94 2.06-2.06.94z\"/><path d=\"M17.41 7.96l-1.37-1.37c-.4-.4-.92-.59-1.43-.59-.52 0-1.04.2-1.43.59L10.3 9.45l-7.72 7.72c-.78.78-.78 2.05 0 2.83L4 21.41c.39.39.9.59 1.41.59.51 0 1.02-.2 1.41-.59l7.78-7.78 2.81-2.81c.8-.78.8-2.07 0-2.86zM5.41 20L4 18.59l7.72-7.72 1.47 1.35L5.41 20z\"/>\n",
              "  </svg>\n",
              "      </button>\n",
              "      \n",
              "  <style>\n",
              "    .colab-df-container {\n",
              "      display:flex;\n",
              "      flex-wrap:wrap;\n",
              "      gap: 12px;\n",
              "    }\n",
              "\n",
              "    .colab-df-convert {\n",
              "      background-color: #E8F0FE;\n",
              "      border: none;\n",
              "      border-radius: 50%;\n",
              "      cursor: pointer;\n",
              "      display: none;\n",
              "      fill: #1967D2;\n",
              "      height: 32px;\n",
              "      padding: 0 0 0 0;\n",
              "      width: 32px;\n",
              "    }\n",
              "\n",
              "    .colab-df-convert:hover {\n",
              "      background-color: #E2EBFA;\n",
              "      box-shadow: 0px 1px 2px rgba(60, 64, 67, 0.3), 0px 1px 3px 1px rgba(60, 64, 67, 0.15);\n",
              "      fill: #174EA6;\n",
              "    }\n",
              "\n",
              "    [theme=dark] .colab-df-convert {\n",
              "      background-color: #3B4455;\n",
              "      fill: #D2E3FC;\n",
              "    }\n",
              "\n",
              "    [theme=dark] .colab-df-convert:hover {\n",
              "      background-color: #434B5C;\n",
              "      box-shadow: 0px 1px 3px 1px rgba(0, 0, 0, 0.15);\n",
              "      filter: drop-shadow(0px 1px 2px rgba(0, 0, 0, 0.3));\n",
              "      fill: #FFFFFF;\n",
              "    }\n",
              "  </style>\n",
              "\n",
              "      <script>\n",
              "        const buttonEl =\n",
              "          document.querySelector('#df-64625e08-8604-4550-8c44-acff9566a7a7 button.colab-df-convert');\n",
              "        buttonEl.style.display =\n",
              "          google.colab.kernel.accessAllowed ? 'block' : 'none';\n",
              "\n",
              "        async function convertToInteractive(key) {\n",
              "          const element = document.querySelector('#df-64625e08-8604-4550-8c44-acff9566a7a7');\n",
              "          const dataTable =\n",
              "            await google.colab.kernel.invokeFunction('convertToInteractive',\n",
              "                                                     [key], {});\n",
              "          if (!dataTable) return;\n",
              "\n",
              "          const docLinkHtml = 'Like what you see? Visit the ' +\n",
              "            '<a target=\"_blank\" href=https://colab.research.google.com/notebooks/data_table.ipynb>data table notebook</a>'\n",
              "            + ' to learn more about interactive tables.';\n",
              "          element.innerHTML = '';\n",
              "          dataTable['output_type'] = 'display_data';\n",
              "          await google.colab.output.renderOutput(dataTable, element);\n",
              "          const docLink = document.createElement('div');\n",
              "          docLink.innerHTML = docLinkHtml;\n",
              "          element.appendChild(docLink);\n",
              "        }\n",
              "      </script>\n",
              "    </div>\n",
              "  </div>\n",
              "  "
            ]
          },
          "metadata": {},
          "execution_count": 10
        }
      ]
    },
    {
      "cell_type": "markdown",
      "source": [
        "# Save the output to a file"
      ],
      "metadata": {
        "id": "QGJSoUaDuTPy"
      }
    },
    {
      "cell_type": "code",
      "source": [
        "Data_result = pd.ExcelWriter('Data_result.xlsx')\n",
        "Data.to_excel(Data_result)\n",
        "Data_result.save()"
      ],
      "metadata": {
        "id": "nBo-IWR4q7Ll"
      },
      "execution_count": 11,
      "outputs": []
    }
  ]
}